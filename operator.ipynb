{
  "nbformat": 4,
  "nbformat_minor": 5,
  "metadata": {
    "kernelspec": {
      "display_name": "Python 3",
      "language": "python",
      "name": "python3"
    },
    "language_info": {
      "codemirror_mode": {
        "name": "ipython",
        "version": 3
      },
      "file_extension": ".py",
      "mimetype": "text/x-python",
      "name": "python",
      "nbconvert_exporter": "python",
      "pygments_lexer": "ipython3",
      "version": "3.8.11"
    },
    "colab": {
      "name": "operator.ipynb",
      "provenance": [],
      "include_colab_link": true
    }
  },
  "cells": [
    {
      "cell_type": "markdown",
      "metadata": {
        "id": "view-in-github",
        "colab_type": "text"
      },
      "source": [
        "<a href=\"https://colab.research.google.com/github/abhinav26999/Python-DivineAI/blob/main/operator.ipynb\" target=\"_parent\"><img src=\"https://colab.research.google.com/assets/colab-badge.svg\" alt=\"Open In Colab\"/></a>"
      ]
    },
    {
      "cell_type": "markdown",
      "metadata": {
        "id": "e23ee1c3"
      },
      "source": [
        "# operators"
      ],
      "id": "e23ee1c3"
    },
    {
      "cell_type": "code",
      "metadata": {
        "id": "9ad68d1f",
        "outputId": "b8571926-2097-495f-c6ff-abf942dcd0aa"
      },
      "source": [
        "2+3"
      ],
      "id": "9ad68d1f",
      "execution_count": null,
      "outputs": [
        {
          "data": {
            "text/plain": [
              "5"
            ]
          },
          "execution_count": 1,
          "metadata": {},
          "output_type": "execute_result"
        }
      ]
    },
    {
      "cell_type": "code",
      "metadata": {
        "id": "d1fce180",
        "outputId": "561642ff-6f45-454f-c043-3ca7441b407a"
      },
      "source": [
        "2-3"
      ],
      "id": "d1fce180",
      "execution_count": null,
      "outputs": [
        {
          "data": {
            "text/plain": [
              "-1"
            ]
          },
          "execution_count": 8,
          "metadata": {},
          "output_type": "execute_result"
        }
      ]
    },
    {
      "cell_type": "code",
      "metadata": {
        "id": "444eb0fa",
        "outputId": "ecbddcfb-5bb8-42a8-ed19-0f416f5ebb23"
      },
      "source": [
        "2*3"
      ],
      "id": "444eb0fa",
      "execution_count": null,
      "outputs": [
        {
          "data": {
            "text/plain": [
              "6"
            ]
          },
          "execution_count": 2,
          "metadata": {},
          "output_type": "execute_result"
        }
      ]
    },
    {
      "cell_type": "code",
      "metadata": {
        "id": "2dee6040",
        "outputId": "a4c434e1-b013-4a7f-8ccf-e60d22a715ea"
      },
      "source": [
        "2/3"
      ],
      "id": "2dee6040",
      "execution_count": null,
      "outputs": [
        {
          "data": {
            "text/plain": [
              "0.6666666666666666"
            ]
          },
          "execution_count": 9,
          "metadata": {},
          "output_type": "execute_result"
        }
      ]
    },
    {
      "cell_type": "code",
      "metadata": {
        "id": "92f2d289",
        "outputId": "6e2e2687-7fce-45a7-8775-c523e2e34d9d"
      },
      "source": [
        "45*63*25*45"
      ],
      "id": "92f2d289",
      "execution_count": null,
      "outputs": [
        {
          "data": {
            "text/plain": [
              "3189375"
            ]
          },
          "execution_count": 3,
          "metadata": {},
          "output_type": "execute_result"
        }
      ]
    },
    {
      "cell_type": "code",
      "metadata": {
        "id": "617ab98f",
        "outputId": "4fde379c-5523-4a23-9be0-21a6b84cad79"
      },
      "source": [
        "2**3"
      ],
      "id": "617ab98f",
      "execution_count": null,
      "outputs": [
        {
          "data": {
            "text/plain": [
              "8"
            ]
          },
          "execution_count": 4,
          "metadata": {},
          "output_type": "execute_result"
        }
      ]
    },
    {
      "cell_type": "code",
      "metadata": {
        "id": "c109a29c",
        "outputId": "0a165d78-6979-4b3d-fb9d-18eb7cc3cced"
      },
      "source": [
        "2%3"
      ],
      "id": "c109a29c",
      "execution_count": null,
      "outputs": [
        {
          "data": {
            "text/plain": [
              "2"
            ]
          },
          "execution_count": 6,
          "metadata": {},
          "output_type": "execute_result"
        }
      ]
    },
    {
      "cell_type": "code",
      "metadata": {
        "id": "21568eb9"
      },
      "source": [
        ""
      ],
      "id": "21568eb9",
      "execution_count": null,
      "outputs": []
    }
  ]
}